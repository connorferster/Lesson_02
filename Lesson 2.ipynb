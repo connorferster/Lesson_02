{
 "cells": [
  {
   "cell_type": "markdown",
   "metadata": {},
   "source": [
    "# Lesson 2 - Intro to Python Data Types and Strings"
   ]
  },
  {
   "cell_type": "markdown",
   "metadata": {},
   "source": [
    "Python has eight main datatypes:\n",
    "\n",
    " 0. `bool`: \"Boolean\" values, either `True` or `False`\n",
    " 1. `int`: integers, e.g. `3`, `93`, `19494`, `0`, or `83`\n",
    " 2. `float`: decimal numbers, e.g. `3.14159`, `2.71828`, or `2.5`\n",
    " 3. `str`: a collection (\"string\") of characters, e.g. `\"This can be LITERALLY anything!\"`\n",
    " 4. `list`: a collection of anything, e.g. `[\"cat\", 2.4, 53]` and is _editable_ (\"mutable\").\n",
    " 5. `tuple`: a collection of anything, e.g. `(\"cat\", 2.4, 53)` but is _non_editable_ (\"immutable\").\n",
    " 6. `dict`: a collection of \"key\" and \"value\" pairs (keys correspond to values), e.g. `{\"North\": \"Up arrow\", \"West\": \"Left arrow\", \"East\": \"Right arrow\", \"South\": \"Down arrow\"}`\n",
    " 7. `set`: a collection of _unique_ values. Duplicate values do not accumulate in a set., e.g. `{\"a\", \"b\", \"c\"}`\n",
    " \n",
    " \n",
    "### We will be looking at `bool`, `int`, `float`, `list`, and especially, `str` in this week's lesson.\n",
    "\n",
    "**`tuple`, `dict`, and `set` will be discussed in a future lesson**.\n",
    " \n",
    " "
   ]
  },
  {
   "cell_type": "code",
   "execution_count": null,
   "metadata": {},
   "outputs": [],
   "source": []
  },
  {
   "cell_type": "markdown",
   "metadata": {},
   "source": [
    "# 0. True and False: `bool`\n",
    "\n",
    "`True` and `False` are the only values permitted to be a `bool`.\n",
    "\n",
    "`1` and `0` are considered to be equal to `True` and `False`, respectively.\n",
    "\n",
    "_Any_ value in Python can be _converted_ into a `bool` by using the `bool(...)` function."
   ]
  },
  {
   "cell_type": "code",
   "execution_count": null,
   "metadata": {},
   "outputs": [],
   "source": []
  },
  {
   "cell_type": "markdown",
   "metadata": {},
   "source": [
    "# 1 & 2. Numbers: `int` and `float`\n",
    "`int` and `float` are numbers and can be treated just like numbers in normal calculations.\n",
    "* `int`s are used for _discrete_ quantities because they are most precise\n",
    "* `float`s are used for any number with a decimal place (_continuous_ quantities)\n",
    "\n",
    "The name `float` comes from the term \"floating point number\". \"Floating point\" refers to how the number is stored in memory as a binary representation. In other languages it might be called a \"double\". Floating point numbers are common to almost all computers.\n",
    "\n",
    "You can use standard arithmetical operators on both `float`s and `int`s.\n",
    "\n",
    "**Python Arithmetic Operators**\n",
    "* `+`: addition\n",
    "* `-`: subtraction\n",
    "* `*`: multiplication\n",
    "* `/`: division\n",
    "* `**`: exponentiation (raise to a power)\n",
    "* `//`: floor division (`int` quotient)\n",
    "* `%`: modulo (`int` remainder)\n",
    "\n",
    "Additionally, you can use parentheses, `(` and `)`, to group calculations as you would normally expect.\n",
    "\n",
    "The functions `int(...)` and `float(...)` can be used to convert certain values to `int`s and `float`s, respectively."
   ]
  },
  {
   "cell_type": "code",
   "execution_count": null,
   "metadata": {},
   "outputs": [],
   "source": []
  },
  {
   "cell_type": "markdown",
   "metadata": {},
   "source": [
    "# 3. Words and Text: `str`\n",
    "Strings (`str`) types are one of the most common data types to use in Python. Most data that we read from external sources will be \"parsed\" (processed and interpreted) by python as strings of characters, which python calls `str`.\n",
    "\n",
    "We can make strings by putting quotes around **anything**.\n",
    "\n",
    "```python\n",
    "a = \"This is a string\" # You can use double quotes\n",
    "b = 'This is a string, too' # Or single quotes\n",
    "```\n",
    "\n",
    "These are also strings:\n",
    "```python\n",
    "c = \"34.5\" # This is a str, not a float\n",
    "d = \"28\" # This is a str, not an int\n",
    "e = 'print(2 + 4**3)' # This is a str, not a function call\n",
    "```"
   ]
  },
  {
   "cell_type": "markdown",
   "metadata": {},
   "source": [
    "Strings have some special characters that are known as \"escaped\" characters. Escaped characters start with a backslash `\\`.\n",
    "\n",
    "* `'\\n'`: New line character\n",
    "* `'\\t'`: Tab character\n",
    "* `'\\r'`: Carriage return character (brings the \"cursor\" to the \"beginning of the line\")\n",
    "* `'\\b'`: Backspace\n",
    "\n",
    "To actually write a backslash in your string, you have to \"escape\" the backslash: `\"\\\\\"`"
   ]
  },
  {
   "cell_type": "code",
   "execution_count": null,
   "metadata": {},
   "outputs": [],
   "source": []
  },
  {
   "cell_type": "markdown",
   "metadata": {},
   "source": [
    "## Representations vs Renderings\n",
    "\n",
    "With `str`, and other kinds of objects, you can see it in one of two ways:\n",
    "1. The object's \"representation\" or (\"repr\")\n",
    "2. The object's \"rendering\"\n",
    "\n",
    "```python\n",
    "my_str = \"This is a string\\nsplit over\\nthree lines\"\n",
    "my_str\n",
    "```\n",
    "\n",
    "vs.\n",
    "\n",
    "```python\n",
    "print(my_str)\n",
    "```\n",
    "\n",
    "* The \"repr\" is viewable whenever you \"inspect\" an object on the command line or when you use the `repr()` function.\n",
    "* The \"rendering\", for a `str`, is viewable whenever you use `print()` or when you write the string to a file."
   ]
  },
  {
   "cell_type": "code",
   "execution_count": 5,
   "metadata": {},
   "outputs": [
    {
     "name": "stdout",
     "output_type": "stream",
     "text": [
      "\tThis is a string\n",
      "split over\n",
      "three lines\n"
     ]
    }
   ],
   "source": [
    "my_str = \"\\tThis is a string\\nsplit over\\nthree lines\"\n",
    "print(my_str)"
   ]
  },
  {
   "cell_type": "markdown",
   "metadata": {},
   "source": [
    "### A brief note about string encoding\n",
    "\n",
    "Characters in strings are actually stored as numbers in the computer's memory, e.g. \"A\" might be mapped to one number, \"a\" to a different numebr.\n",
    "\n",
    "For those who have heard of the acronym \"ASCII\", these refer to character encodings of strings. Back in the day, English-speaking developers were only worried about the Latin alphabet and they created an encoding system that mapped numbers 0-127 to the characters on an English keyboard.\n",
    "\n",
    "Nowadays, we expect computers to be able to work with ANY character set. ANSI and ASCII are not capable of this so the encoding `UTF-8` was created in 1992 to accomplish this. \n",
    "\n",
    "UTF-8 is the default encoding in Python but it is possible to access other encodings if you encounter data that have different encodings.\n",
    "\n",
    "```python\n",
    "# These strings demonstrate Python's utf-8 encodings\n",
    "\n",
    "f = \"如果您可以阅读此内容，则本课程似乎进展顺利。\"\n",
    "g = \"إذا كنت تستطيع قراءة هذا ، يبدو أن هذا الدرس يسير على ما يرام.\"\n",
    "h = \"यदि आप इसे पढ़ सकते हैं, तो ऐसा लगता है कि यह पाठ ठीक चल रहा है।\"\n",
    "j = \"ប្រសិនបើអ្នកអាចអានវាហាក់ដូចជាមេរៀននេះដំណើរការល្អ។\"\n",
    "k = \"😀\"\n",
    "```\n",
    "\n",
    "In Python, you can convert _anything_ into a `str` with the `str(...)` function."
   ]
  },
  {
   "cell_type": "code",
   "execution_count": null,
   "metadata": {},
   "outputs": [],
   "source": []
  },
  {
   "cell_type": "markdown",
   "metadata": {},
   "source": [
    "# 4. Basic collections (or \"arrays\"): `list`\n",
    "A `list` is a collection of Python objects that can be anything you like:\n",
    "\n",
    "```python\n",
    "my_first_list = [\"Apples\", \"Oranges\", \"Bananas\", \"Pears\"]\n",
    "my_second_list = [12, 43.3, 56]\n",
    "my_third_list = [\"Cars\", 42, \"😀\"]\n",
    "```\n",
    "\n",
    "A `list` can also contain other lists:\n",
    "\n",
    "```python\n",
    "two_lists_within_a_list = [\"abc\", [12, 634], [89.3, 0.0001, 342]]\n",
    "a_nested_list = [[[\"a\"]]]\n",
    "```\n",
    "\n",
    "You can convert other _iterables_ to a list by using the `list(...)` function.\n",
    "\n",
    "> Note: Converting a `str` to a `list` will break out each character as a list item."
   ]
  },
  {
   "cell_type": "code",
   "execution_count": null,
   "metadata": {},
   "outputs": [],
   "source": []
  },
  {
   "cell_type": "markdown",
   "metadata": {},
   "source": [
    "# What `str` and `list` have in common\n",
    "\n",
    "Both `str` and `list` are considered _sequences_. In Python, another word for \"sequence\" is _**iterable**_. \n",
    "\n",
    "* A `str` is an iterable of individual characters\n",
    "* A `list` is an iterable of other objects, which may be `str`, `int`, `float`, `bool`, other `list`s, or whatever.\n",
    "\n",
    "Because `str` and `list` are both sequences, they have certain useful traits in common:\n",
    "\n",
    "1. **Indexing**\n",
    "2. **Add items with `+` and `*`**\n",
    "3. **Built-in _methods_**"
   ]
  },
  {
   "cell_type": "code",
   "execution_count": null,
   "metadata": {},
   "outputs": [],
   "source": []
  },
  {
   "cell_type": "markdown",
   "metadata": {},
   "source": [
    "## 1. Indexing\n",
    "\n",
    "Both characters in a `str` and objects in a `list` can be _indexed_. This means we can access individual _members_ of the `str` or `list` if we know their position within the `str` or `list`.\n",
    "\n",
    "```python\n",
    "b = 'This is a string.'\n",
    "my_first_list = [\"Apples\", \"Oranges\", \"Bananas\", \"Pears\"]\n",
    "```\n",
    "\n",
    "```python\n",
    "b[0] # This accesses the first character in the str\n",
    "my_first_list[2] # This accesses the third object in the list\n",
    "```\n",
    "\n",
    "However, `int`s and `float`s are not indexable (or \"subscriptable\"):\n",
    "```python\n",
    "m = 234.234009234\n",
    "n = 8982389482\n",
    "```\n",
    "\n",
    "```python\n",
    "m[1] # This won't work to get the second number\n",
    "n[5] # This won't work either (to get the sixth number)\n",
    "```\n",
    "\n",
    "```python\n",
    "m = \"234.234009234\" # Now these are subscriptable\n",
    "n = \"8982389482\" # Now these are subscriptable\n",
    "```"
   ]
  },
  {
   "cell_type": "code",
   "execution_count": null,
   "metadata": {},
   "outputs": [],
   "source": []
  },
  {
   "cell_type": "markdown",
   "metadata": {},
   "source": [
    "### Note: Python is \"zero indexed\"\n",
    "You may have noticed that I my numbering system does not start from `1`. I have been numbering my bullets starting from `0`. Python is what is called a \"zero indexed\" language. This means that all numbering starts from `0` and goes up. \n",
    "\n",
    "When indexing a sequence, you have to remember that `0` is the _first_ number, not `1`. It takes some getting used to but it eventually becomes second-nature.\n",
    "\n",
    "This is contrast to something like MS Excel, which is a \"one indexed\" (numbers start from `1`).\n",
    "\n",
    "### Indexing syntax `[start:stop:step]`\n",
    "\n",
    "Indexing is not just used to get single members of a sequence. It can be used to get a range of members or some selection of members.\n",
    "\n",
    "Here are examples:\n",
    "```python\n",
    "diary_entry = 'If you want to destroy my sweater/Hold this thread as I walk away'\n",
    "\n",
    "diary_entry[3:6] # you\n",
    "diary_entry[15:22] # destroy\n",
    "```"
   ]
  },
  {
   "cell_type": "code",
   "execution_count": null,
   "metadata": {},
   "outputs": [],
   "source": []
  },
  {
   "cell_type": "markdown",
   "metadata": {},
   "source": [
    "The example above demonstrates how to extract sub-strings from a larger string.\n",
    "\n",
    "\n",
    "```python\n",
    "shopping_list = [\"Apples\", \"Oranges\", \"Bananas\", \"Pears\", \"Mangos\", \"Mangosteens\", \"Pandan leaf\", \"Betel leaf\"]\n",
    "\n",
    "shopping_list[2:6] # [\"Bananas\", \"Pears\", \"Mangos\", \"Mangosteens\"]\n",
    "shopping_list[6:] # Read as \"start at position six, do not stop\": [\"Pandan leaf\", \"Betel leaf\"]\n",
    "```"
   ]
  },
  {
   "cell_type": "code",
   "execution_count": null,
   "metadata": {},
   "outputs": [],
   "source": []
  },
  {
   "cell_type": "markdown",
   "metadata": {},
   "source": [
    "The example above demonstrates how to extract list items from a larger list.\n",
    "\n",
    "```python\n",
    "numbers_0_thru_20 = [0, 1, 2, 3, 4, 5, 6, 7, 8, 9, 10, 11, 12, 13, 14, 15, 16, 17, 18, 19, 20]\n",
    "two_times_table = numbers_0_thru_20[0::2] # Read as \"start at position zero, do not stop, every 2nd item\"\n",
    "two_times_table # [0, 2, 4, 6, 8, 10, 12, 14, 16, 18, 20]\n",
    "```\n",
    "This example shows you how you can use the `step` parameter to \"skip\" items in a list."
   ]
  },
  {
   "cell_type": "code",
   "execution_count": null,
   "metadata": {},
   "outputs": [],
   "source": []
  },
  {
   "cell_type": "markdown",
   "metadata": {},
   "source": [
    "### Understanding `[start:stop:step]`\n",
    "\n",
    "* `[x]` - Get the item at position `x`\n",
    "* `[x:y]` - Get the items starting at `x` and stop BEFORE `y` (i.e., does not include position `y`)\n",
    "* `[x:y:z]` - Get the items start at `x` and stop before `y` retrieving every `z`th item.\n",
    "\n",
    "#### Variations\n",
    "* `[x:]` - Get the items starting at `x` and do not stop\n",
    "* `[x::]` - Get the items starting at `x` and do not stop, retrieving every item (effectively same as above so you wouldn't write this)\n",
    "* `[x::z]` - Get the items starting at `x` and do not stop, retrieving every `z`th item\n",
    "* `[::z]` - Get the items starting at the beginning, do not stop, retrieving every `z`th item\n",
    "\n",
    "#### Going backwards\n",
    "* `[-1]` - Get the last item\n",
    "* `[-2]` - Get the second-to-last item\n",
    "* `[::-1]` - Start at the beginning, do not stop, going backward\n",
    "* `[-2:-5:-1]` - Start at the second-to-last position, stop before the fifth-to-last position, retrieving every item going backward\n",
    "* `[-2:-5:-2]` - Start at the second-to-last position, stop before the fifth-to-last position, retrieving every second item going backward\n",
    "\n",
    "**This week's workbook will largely be focussed on practicing indexing**"
   ]
  },
  {
   "cell_type": "code",
   "execution_count": null,
   "metadata": {},
   "outputs": [],
   "source": []
  },
  {
   "cell_type": "markdown",
   "metadata": {},
   "source": [
    "## 2. Add items with `+` and `*`\n",
    "\n",
    "The `+` and `*` operators, in addition to being used with numbers, can be used on `str` and `list`. However, `-` and `/` cannot be.\n",
    "\n",
    "Explanation by examples:\n",
    "\n",
    "```python\n",
    "a = \"cat\"\n",
    "a*5 # \"catcatcatcatcat\"\n",
    "\n",
    "b = [\"list item 1\"]\n",
    "b*5 # [\"list item 1\", \"list item 1\", \"list item 1\", \"list item 1\", \"list item 1\"]\n",
    "```\n",
    "\n",
    "```python\n",
    "c = \"run\"\n",
    "a + c # \"catrun\"\n",
    "\n",
    "d = [\"list item 2\", \"list item 3\"]\n",
    "d + b # [\"list item 2\", \"list item 3\", \"list item 1\"]\n",
    "```"
   ]
  },
  {
   "cell_type": "code",
   "execution_count": null,
   "metadata": {},
   "outputs": [],
   "source": []
  },
  {
   "cell_type": "markdown",
   "metadata": {},
   "source": [
    "### More detailed explanation\n",
    "\n",
    "`str`s can be _concatenated_ (joined together in a chain) to other `str`s using `+`. \n",
    "\n",
    "And, `list`s can be _concatenated_ to other `list`s using `+`. \n",
    "\n",
    "However, `str`s _cannot_ be added to a `list` using `+`, and vice-versa.\n",
    "\n",
    "Using `*`, `str`s and `list`s can be concatenated to _themselves_ many times."
   ]
  },
  {
   "cell_type": "code",
   "execution_count": null,
   "metadata": {},
   "outputs": [],
   "source": []
  },
  {
   "cell_type": "markdown",
   "metadata": {},
   "source": [
    "## 3. Built-in _methods_\n",
    "\n",
    "In Lesson 1 and Workbook 1, we were introduced to the idea of _functions_ and how to \"call\" them. \n",
    "\n",
    "> We have some object, called a function, that exists on it's own. We provide it some input (parameters) and it gives us an output.\n",
    "\n",
    "**A _method_ is like a function that is _built-in_ to the data. It's like a built-in _process_ that the data can use to transform itself.**\n",
    "\n",
    "### Explanation of methods by example:\n",
    "```python\n",
    "greeting = \"good day, archibald\"\n",
    "greeting.title() # \"Good Day, Archibald\"\n",
    "\n",
    "shopping_list = [\"cheese\", \"eggs\", \"bread\"]\n",
    "shopping_list.append(\"yoghurt\") # [\"cheese\", \"eggs\", \"bread\", \"yoghurt\"]\n",
    "```"
   ]
  },
  {
   "cell_type": "code",
   "execution_count": null,
   "metadata": {},
   "outputs": [],
   "source": []
  },
  {
   "cell_type": "markdown",
   "metadata": {},
   "source": [
    "### Detailed explanation:\n",
    "\n",
    "```python\n",
    "greeting = \"good day, archibald\"\n",
    "```\n",
    "When we assign the string, `\"good day, archibald\"` to the variable, `greeting`, we can now consider `greeting` to represent an _instance_ of a `str`. \n",
    "\n",
    "Because `greeting` now represents an instance of a `str`, we can use the \"dot notation\" to access all of the `str` methods.\n",
    "\n",
    "\n",
    "\n",
    "```python\n",
    "greeting.<method name>()\n",
    "```\n",
    "\n",
    "Similarily, when we do:\n",
    "```python\n",
    "shopping_list = [\"cheese\", \"eggs\", \"bread\"]\n",
    "```\n",
    "`shopping_list` now represents an _instance_ of a `list` and we can use the \"dot notation\" to access all of the `list` methods.\n",
    "\n",
    "```python\n",
    "shopping_list.<method name>()\n",
    "```\n",
    "\n",
    "**`str` instances and `list` instances both have methods but they have _different_ methods appropriate for their datatype**\n",
    "> Use the built-in Python function `dir(...)` to see all of the methods available for a particular datatype\n",
    "\n",
    "```python\n",
    "dir(greeting)\n",
    "```\n",
    "\n",
    "```python\n",
    "dir(shopping_list)\n",
    "```\n",
    "\n",
    "**And, you can learn more about each of these methods by using `help(...)`**\n",
    "\n",
    "```python\n",
    "help(greeting.title)\n",
    "\n",
    "help(shopping_list.append)\n",
    "```"
   ]
  },
  {
   "cell_type": "code",
   "execution_count": null,
   "metadata": {},
   "outputs": [],
   "source": []
  },
  {
   "cell_type": "markdown",
   "metadata": {},
   "source": [
    "### An (incomplete, but useful) list of methods for `str`\n",
    "\n",
    "| Transformation            | Testing                  | Investigation     | Creating |\n",
    "| ---------------           | --------------           | ----------------- | ------------------| \n",
    "| `.upper()`                | `.isalpha()`             | `.count(sub_str=)`| `.format(var=)`     \n",
    "| `.lower()`                | `.isalnum()`             | `.find(sub_str=)` | `.join(iterable=)` \n",
    "| `.capitalize()`           | `.isdigit()`             | `.rfind(sub_str=)`|    \n",
    "| `.title()`                | `.islower()`             | \n",
    "| `.strip()`                | `.isupper()`             |  \n",
    "| `.lstrip()`               | `.startswith(sub_str=)`   \n",
    "| `.rstrip()`               | `.endswith(sub_str=)`   \n",
    "| **`.replace(old=, new=)`**    | \n",
    "| **`.split(sub_str=)`**\n",
    "\n",
    "\n",
    "### A (complete) list of methods for `list`\n",
    "\n",
    "| Transformation             | Investigation     | Creating/Editing |\n",
    "| ---------------- | ----------------- | ------------------| \n",
    "| `.reverse()`     | `.count(item=)`   | **`.append(item=)`**     \n",
    "| `.sort()`        | `.index(item=)`   | `.extend(iterable=)`\n",
    "|                  |                   | `.insert(item=)`\n",
    "|                  |                   | `.pop(index=)`\n",
    "|                  |                   | `remove(item=)`\n",
    "|                  |                   | `.clear()`\n",
    "|                  |                   | `.copy()`"
   ]
  },
  {
   "cell_type": "code",
   "execution_count": null,
   "metadata": {},
   "outputs": [],
   "source": []
  },
  {
   "cell_type": "markdown",
   "metadata": {},
   "source": [
    "# Putting Variables into `list`s and `str`s"
   ]
  },
  {
   "cell_type": "markdown",
   "metadata": {},
   "source": [
    "### To add your variables to a `list`\n",
    "\n",
    "**Adding items to a list directly**\n",
    "```python\n",
    "item_1 = \"my list item\"\n",
    "item_2 = \"another list item\"\n",
    "my_items_in_a_list = [item_1, item_2]\n",
    "```\n",
    "\n",
    "**Adding items to the end of a list with `.append(item=)`**\n",
    "```python\n",
    "item_1 = \"my list item\"\n",
    "my_list = [item_1]\n",
    "item_2 = \"another list item\"\n",
    "my_list.append(item_2)\n",
    "```\n",
    "\n",
    "**Inserting items at a certain position with `.insert(index=, item=)`**\n",
    "```python\n",
    "item_1 = \"my list item\"\n",
    "item_2 = \"another list item\"\n",
    "my_items_in_a_list = [item_1, item_2]\n",
    "item_3 = \"to go in the middle\"\n",
    "my_items_in_a_list.insert(index=1, item_3)\n",
    "```"
   ]
  },
  {
   "cell_type": "code",
   "execution_count": null,
   "metadata": {},
   "outputs": [],
   "source": []
  },
  {
   "cell_type": "markdown",
   "metadata": {},
   "source": [
    "## To add your variables into a `str`\n",
    "\n",
    "**Using f-strings**\n",
    "\n",
    "```python\n",
    "my_number = 34.2\n",
    "my_string = f\"My number is {my_number}\"\n",
    "```\n",
    "\n",
    "```python\n",
    "name = \"Connor\"\n",
    "city = \"Vancouver\"\n",
    "statement = f\"{name} is from {city}\"\n",
    "```"
   ]
  },
  {
   "cell_type": "code",
   "execution_count": null,
   "metadata": {},
   "outputs": [],
   "source": []
  },
  {
   "cell_type": "markdown",
   "metadata": {},
   "source": [
    "## Errors you may run into in this week's Workbook\n",
    "\n",
    "`IndexError`: When you are trying to access an index outside of the range of the collection, you will get an `IndexError`.\n",
    "\n",
    "`NameError`: When you try to reference a variable name that you have not actually defined yet. You may have forgot to run a cell above where you defined your variable.\n",
    "\n",
    "\n"
   ]
  },
  {
   "cell_type": "code",
   "execution_count": 23,
   "metadata": {},
   "outputs": [
    {
     "ename": "IndexError",
     "evalue": "list index out of range",
     "output_type": "error",
     "traceback": [
      "\u001b[1;31m---------------------------------------------------------------------------\u001b[0m",
      "\u001b[1;31mIndexError\u001b[0m                                Traceback (most recent call last)",
      "\u001b[1;32m<ipython-input-23-222aeb80fbd1>\u001b[0m in \u001b[0;36m<module>\u001b[1;34m\u001b[0m\n\u001b[0;32m      3\u001b[0m \u001b[0mmy_first_list\u001b[0m \u001b[1;33m=\u001b[0m \u001b[1;33m[\u001b[0m\u001b[1;34m\"Apples\"\u001b[0m\u001b[1;33m,\u001b[0m \u001b[1;34m\"Oranges\"\u001b[0m\u001b[1;33m,\u001b[0m \u001b[1;34m\"Bananas\"\u001b[0m\u001b[1;33m,\u001b[0m \u001b[1;34m\"Pears\"\u001b[0m\u001b[1;33m]\u001b[0m\u001b[1;33m\u001b[0m\u001b[1;33m\u001b[0m\u001b[0m\n\u001b[0;32m      4\u001b[0m \u001b[1;33m\u001b[0m\u001b[0m\n\u001b[1;32m----> 5\u001b[1;33m \u001b[0mmy_first_list\u001b[0m\u001b[1;33m[\u001b[0m\u001b[1;36m5\u001b[0m\u001b[1;33m]\u001b[0m \u001b[1;31m# There is nothing in the '5' position in this list, it's not that long\u001b[0m\u001b[1;33m\u001b[0m\u001b[1;33m\u001b[0m\u001b[0m\n\u001b[0m\u001b[0;32m      6\u001b[0m \u001b[1;31m#my_first_list[2] # <- This one will work\u001b[0m\u001b[1;33m\u001b[0m\u001b[1;33m\u001b[0m\u001b[1;33m\u001b[0m\u001b[0m\n",
      "\u001b[1;31mIndexError\u001b[0m: list index out of range"
     ]
    }
   ],
   "source": [
    "# My first IndexError\n",
    "\n",
    "my_first_list = [\"Apples\", \"Oranges\", \"Bananas\", \"Pears\"]\n",
    "\n",
    "my_first_list[5] # There is nothing in the '5' position in this list, it's not that long\n",
    "#my_first_list[2] # <- This one will work"
   ]
  },
  {
   "cell_type": "code",
   "execution_count": null,
   "metadata": {},
   "outputs": [],
   "source": [
    "# My first TypeError\n",
    "my_string = \"Hey! I am a string! I am just a *list* of individual characters!\"\n",
    "\n",
    "my_string.replace()\n",
    "#my_string.replace('just')\n",
    "#my_string.replace(43, \"Get\")\n",
    "#my_string.replace('string', 'sentence') # <- This one will work"
   ]
  }
 ],
 "metadata": {
  "kernelspec": {
   "display_name": "Python 3",
   "language": "python",
   "name": "python3"
  },
  "language_info": {
   "codemirror_mode": {
    "name": "ipython",
    "version": 3
   },
   "file_extension": ".py",
   "mimetype": "text/x-python",
   "name": "python",
   "nbconvert_exporter": "python",
   "pygments_lexer": "ipython3",
   "version": "3.7.6"
  }
 },
 "nbformat": 4,
 "nbformat_minor": 4
}
