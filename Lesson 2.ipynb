{
 "cells": [
  {
   "cell_type": "markdown",
   "metadata": {},
   "source": [
    "# Lesson 2 - Intro to Python strings and lists"
   ]
  },
  {
   "cell_type": "markdown",
   "metadata": {
    "tags": []
   },
   "source": [
    "# Reading `str` data from a file\n",
    "\n",
    "## Basic recipe\n",
    "\n",
    "This is not the _most_ basic way but it is the _cleanest_ most basic way.\n",
    "\n",
    "```python\n",
    "file_name = \"my_file.txt\" # Same dir as notebook file\n",
    "with open(file_name, 'r') as file:\n",
    "    file_data = file.read()\n",
    "```\n",
    "\n",
    "Once that code has run your variable `file_data` is now a string representing all of the text in the file.\n",
    "\n",
    "You can see the contents of the file data by doing:\n",
    "```python\n",
    "print(file_data)\n",
    "```"
   ]
  },
  {
   "cell_type": "code",
   "execution_count": null,
   "metadata": {},
   "outputs": [],
   "source": []
  },
  {
   "cell_type": "markdown",
   "metadata": {
    "tags": []
   },
   "source": [
    "## Understanding the recipe\n",
    "\n",
    "### 1. Set your file name as a str\n",
    "\n",
    "```python\n",
    "file_name = \"my_file.txt\"\n",
    "```\n",
    "\n",
    "### 2. The `open()` function\n",
    "\n",
    "The function we are using is called, `open`. The function, `open()` takes one mandatory argument and several optional arguments. For now, we will use the one mandatory argument, `file`, and one of the optional arguments, `mode`.\n",
    "* `file` -> This is your file name. Can be a `str` or \"path-like object\" (more next week)\n",
    "* `mode` -> There are four basic modes:\n",
    "    * `'r'` - Reading (text) mode\n",
    "    * `'w'` - Writing (text) mode\n",
    "    * `'rb'` - Reading binary mode\n",
    "    * `'wb'` - Writing binary mode\n",
    "    * We will just be using `'r'` and/or `'w'`. If you do not put a `mode` argument, Python will assume it is `'r'`\n",
    "\n",
    "### 3. Using `with ___ as ___:`\n",
    "\n",
    "Opening a file like this:\n",
    "```python\n",
    "with open(file_name, 'r') as file:\n",
    "    file_data = file.read()\n",
    "```\n",
    "\n",
    "Is roughly equivalent to doing this:\n",
    "\n",
    "```python\n",
    "file = open(file_name, 'r')\n",
    "file_data = file.read()\n",
    "file.close()\n",
    "```"
   ]
  },
  {
   "cell_type": "code",
   "execution_count": null,
   "metadata": {},
   "outputs": [],
   "source": []
  },
  {
   "cell_type": "markdown",
   "metadata": {},
   "source": [
    "# Working with `str` data: Words and Text\n",
    "\n",
    "Strings (`str`) types are one of the most common data types to use in Python. Most data that we read from external sources will be \"parsed\" (processed and interpreted) by python as strings of characters, which python calls `str`.\n",
    "\n",
    "We can make strings by putting quotes around **anything**.\n",
    "\n",
    "```python\n",
    "a = \"This is a string\" # You can use double quotes\n",
    "b = 'This is a string, too' # Or single quotes\n",
    "```\n",
    "\n",
    "These are also strings:\n",
    "```python\n",
    "c = \"34.5\" # This is a str, not a float\n",
    "d = \"28\" # This is a str, not an int\n",
    "e = 'print(2 + 4**3)' # This is a str, not a function call\n",
    "```"
   ]
  },
  {
   "cell_type": "markdown",
   "metadata": {},
   "source": [
    "Strings have some special characters that are known as \"escaped\" characters. Escaped characters start with a backslash `\\`.\n",
    "\n",
    "* `'\\n'`: New line character\n",
    "* `'\\t'`: Tab character\n",
    "* `'\\r'`: Carriage return character (brings the \"cursor\" to the \"beginning of the line\")\n",
    "* `'\\b'`: Backspace\n",
    "\n",
    "To actually write a backslash in your string, you have to \"escape\" the backslash: `\"\\\\\"`"
   ]
  },
  {
   "cell_type": "code",
   "execution_count": null,
   "metadata": {},
   "outputs": [],
   "source": []
  },
  {
   "cell_type": "markdown",
   "metadata": {
    "tags": []
   },
   "source": [
    "## Representations vs Renderings\n",
    "\n",
    "With `str`, and other kinds of objects, you can see it in one of two ways:\n",
    "1. The object's \"representation\" or (\"repr\")\n",
    "2. The object's \"rendering\"\n",
    "\n",
    "```python\n",
    "my_str = \"This is a string\\nsplit over\\nthree lines\"\n",
    "my_str\n",
    "```\n",
    "\n",
    "vs.\n",
    "\n",
    "```python\n",
    "print(my_str)\n",
    "```\n",
    "\n",
    "* The \"repr\" is viewable whenever you \"inspect\" an object on the command line or when you use the `repr()` function.\n",
    "* The \"rendering\", for a `str`, is viewable whenever you use `print()` or when you write the string to a file."
   ]
  },
  {
   "cell_type": "code",
   "execution_count": null,
   "metadata": {},
   "outputs": [],
   "source": []
  },
  {
   "cell_type": "markdown",
   "metadata": {},
   "source": [
    "## A brief note about string encoding\n",
    "\n",
    "Nowadays, we expect computers to be able to work with ANY character set. The old Latin encodings of ANSI and ASCII are not capable of this so the encoding `UTF-8` was created in 1992 to accomplish this. \n",
    "\n",
    "UTF-8 is the default encoding in Python but it is possible to access other encodings if you encounter data that have different encodings.\n",
    "\n",
    "```python\n",
    "# These strings demonstrate Python's utf-8 encodings\n",
    "\n",
    "f = \"如果您可以阅读此内容，则本课程似乎进展顺利。\"\n",
    "g = \"إذا كنت تستطيع قراءة هذا ، يبدو أن هذا الدرس يسير على ما يرام.\"\n",
    "h = \"यदि आप इसे पढ़ सकते हैं, तो ऐसा लगता है कि यह पाठ ठीक चल रहा है।\"\n",
    "j = \"ប្រសិនបើអ្នកអាចអានវាហាក់ដូចជាមេរៀននេះដំណើរការល្អ។\"\n",
    "k = \"😀\"\n",
    "```\n",
    "\n",
    "**In Python, you can convert _anything_ into a `str` with the `str(...)` function.**"
   ]
  },
  {
   "cell_type": "code",
   "execution_count": null,
   "metadata": {},
   "outputs": [],
   "source": []
  },
  {
   "cell_type": "markdown",
   "metadata": {},
   "source": [
    "# Collections of data: `list`\n",
    "\n",
    "A `list` is a collection of Python objects that can be anything you like:\n",
    "\n",
    "```python\n",
    "my_first_list = [\"Apples\", \"Oranges\", \"Bananas\", \"Pears\"]\n",
    "my_second_list = [12, 43.3, 56]\n",
    "my_third_list = [\"Cars\", 42, \"😀\"]\n",
    "```\n",
    "\n",
    "A `list` can also contain other lists:\n",
    "\n",
    "```python\n",
    "two_lists_within_a_list = [\"abc\", [12, 634], [89.3, 0.0001, 342]]\n",
    "a_nested_list = [[[\"a\"]]]\n",
    "```\n",
    "\n",
    "You can convert other _iterables_ to a list by using the `list(...)` function.\n",
    "\n",
    "> Note: Converting a `str` to a `list` will break out each character as a list item."
   ]
  },
  {
   "cell_type": "code",
   "execution_count": null,
   "metadata": {},
   "outputs": [],
   "source": []
  },
  {
   "cell_type": "markdown",
   "metadata": {},
   "source": [
    "# What `str` and `list` have in common\n",
    "\n",
    "Both `str` and `list` are considered _sequences_. In Python, another word for \"sequence\" is _**iterable**_. \n",
    "\n",
    "* A `str` is an iterable of individual characters\n",
    "* A `list` is an iterable of other objects, which may be `str`, `int`, `float`, `bool`, other `list`s, or whatever.\n",
    "\n",
    "Because `str` and `list` are both sequences, they have certain useful traits in common:\n",
    "\n",
    "### 1. Indexing\n",
    "### 2. Combinations with `+` and `*`\n",
    "### 3. Methods"
   ]
  },
  {
   "cell_type": "code",
   "execution_count": null,
   "metadata": {},
   "outputs": [],
   "source": []
  },
  {
   "cell_type": "markdown",
   "metadata": {},
   "source": [
    "# 1. Indexing\n",
    "\n",
    "Both characters in a `str` and objects in a `list` can be _indexed_. This means we can access individual _members_ of the `str` or `list` if we know their position within the `str` or `list`.\n",
    "\n",
    "```python\n",
    "b = 'This is a string.'\n",
    "my_first_list = [\"Apples\", \"Oranges\", \"Bananas\", \"Pears\"]\n",
    "```\n",
    "\n",
    "```python\n",
    "b[0] # This accesses the first character in the str\n",
    "my_first_list[2] # This accesses the third object in the list\n",
    "```\n",
    "\n",
    "However, `int`s and `float`s are not indexable (or \"subscriptable\"):\n",
    "```python\n",
    "m = 234.234009234\n",
    "n = 8982389482\n",
    "```\n",
    "\n",
    "```python\n",
    "m[1] # This won't work to get the second number\n",
    "n[5] # This won't work either (to get the sixth number)\n",
    "```\n",
    "\n",
    "```python\n",
    "m = \"234.234009234\" # Now these are subscriptable\n",
    "n = \"8982389482\" # Now these are subscriptable\n",
    "```"
   ]
  },
  {
   "cell_type": "code",
   "execution_count": null,
   "metadata": {},
   "outputs": [],
   "source": []
  },
  {
   "cell_type": "markdown",
   "metadata": {},
   "source": [
    "### Note: Python is \"zero indexed\"\n",
    "Python is what is called a \"zero indexed\" language. This means that all numbering starts from `0` and goes up. The item in the first position is indexed with `0`.\n",
    "\n",
    "### Indexing syntax `[start:stop:step]`\n",
    "\n",
    "Indexing is not just used to get single members of a sequence. It can be used to get a range of members or some selection of members.\n",
    "\n",
    "Here are examples:\n",
    "```python\n",
    "diary_entry = 'If you want to destroy my sweater/Hold this thread as I walk away'\n",
    "\n",
    "diary_entry[3:6] # you\n",
    "diary_entry[15:22] # destroy\n",
    "```"
   ]
  },
  {
   "cell_type": "code",
   "execution_count": null,
   "metadata": {},
   "outputs": [],
   "source": []
  },
  {
   "cell_type": "markdown",
   "metadata": {},
   "source": [
    "This example shows indexing used to get individual items from a list.\n",
    "\n",
    "\n",
    "```python\n",
    "shopping_list = [\"Apples\", \"Oranges\", \"Bananas\", \"Pears\", \"Mangos\", \"Mangosteens\", \"Pandan leaf\", \"Betel leaf\"]\n",
    "\n",
    "shopping_list[2:6] # [\"Bananas\", \"Pears\", \"Mangos\", \"Mangosteens\"]\n",
    "shopping_list[6:] # Read as \"start at position six, do not stop\": [\"Pandan leaf\", \"Betel leaf\"]\n",
    "```"
   ]
  },
  {
   "cell_type": "code",
   "execution_count": null,
   "metadata": {},
   "outputs": [],
   "source": []
  },
  {
   "cell_type": "markdown",
   "metadata": {},
   "source": [
    "This is an example of how we can use the `step` parameter to get specific sub-sequences\n",
    "\n",
    "```python\n",
    "numbers_0_thru_20 = [0, 1, 2, 3, 4, 5, 6, 7, 8, 9, 10, 11, 12, 13, 14, 15, 16, 17, 18, 19, 20]\n",
    "two_times_table = numbers_0_thru_20[0::2] # Read as \"start at position zero, do not stop, every 2nd item\"\n",
    "two_times_table # [0, 2, 4, 6, 8, 10, 12, 14, 16, 18, 20]\n",
    "```"
   ]
  },
  {
   "cell_type": "code",
   "execution_count": 2,
   "metadata": {},
   "outputs": [],
   "source": [
    "numbers_0_thru_20 = [0, 1, 2, 3, 4, 5, 6, 7, 8, 9, 10, 11, 12, 13, 14, 15, 16, 17, 18, 19, 20]"
   ]
  },
  {
   "cell_type": "markdown",
   "metadata": {},
   "source": [
    "### Understanding `[start:stop:step]`\n",
    "\n",
    "* `[x]` - Get the item at position `x`\n",
    "* `[x:y]` - Get the items starting at `x` and stop BEFORE `y` (i.e., does not include position `y`)\n",
    "* `[x:y:z]` - Get the items start at `x` and stop before `y` retrieving every `z`th item.\n",
    "\n",
    "#### Variations\n",
    "* `[x:]` - Get the items starting at `x` and do not stop\n",
    "* `[x::]` - Get the items starting at `x` and do not stop, retrieving every item (effectively same as above so you wouldn't write this)\n",
    "* `[x::z]` - Get the items starting at `x` and do not stop, retrieving every `z`th item\n",
    "* `[::z]` - Get the items starting at the beginning, do not stop, retrieving every `z`th item\n",
    "\n",
    "#### Going backwards\n",
    "* `[-1]` - Get the last item\n",
    "* `[-2]` - Get the second-to-last item\n",
    "* `[::-1]` - Reverse the list (step through the list in reverse)\n",
    "* `[-2:-5:-1]` - Start at the second-to-last position, stop before the fifth-to-last position, retrieving every item going backward\n",
    "* `[-2:-5:-2]` - Start at the second-to-last position, stop before the fifth-to-last position, retrieving every second item going backward"
   ]
  },
  {
   "cell_type": "code",
   "execution_count": null,
   "metadata": {},
   "outputs": [],
   "source": []
  },
  {
   "cell_type": "markdown",
   "metadata": {},
   "source": [
    "# 2. Add items with `+` and `*`\n",
    "\n",
    "The `+` and `*` operators, in addition to being used with numbers, can be used on `str` and `list`. However, `-` and `/` cannot be.\n",
    "\n",
    "Explanation by examples:\n",
    "\n",
    "```python\n",
    "a = \"cat\"\n",
    "a*5 # \"catcatcatcatcat\"\n",
    "\n",
    "b = [\"list item 1\"]\n",
    "b*5 # [\"list item 1\", \"list item 1\", \"list item 1\", \"list item 1\", \"list item 1\"]\n",
    "```\n",
    "\n",
    "```python\n",
    "c = \"run\"\n",
    "a + c # \"catrun\"\n",
    "\n",
    "d = [\"list item 2\", \"list item 3\"]\n",
    "d + b # [\"list item 2\", \"list item 3\", \"list item 1\"]\n",
    "```"
   ]
  },
  {
   "cell_type": "code",
   "execution_count": null,
   "metadata": {},
   "outputs": [],
   "source": []
  },
  {
   "cell_type": "markdown",
   "metadata": {},
   "source": [
    "# 3. Built-in _methods_\n",
    "\n",
    "In Lesson 1 and Workbook 1, we were introduced to the idea of _functions_ and how to \"call\" them. \n",
    "\n",
    "> We have some object, called a function, that exists on it's own. We provide it some input (parameters) and it gives us an output.\n",
    "\n",
    "**A _method_ is like a function that is _built-in_ to the data. It's like a built-in _process_ that the data can use to transform itself.**\n",
    "\n",
    "### Explanation of methods by example:\n",
    "```python\n",
    "greeting = \"good day, archibald\"\n",
    "greeting.title() # \"Good Day, Archibald\"\n",
    "\n",
    "shopping_list = [\"cheese\", \"eggs\", \"bread\"]\n",
    "shopping_list.append(\"yoghurt\") # [\"cheese\", \"eggs\", \"bread\", \"yoghurt\"]\n",
    "```"
   ]
  },
  {
   "cell_type": "code",
   "execution_count": null,
   "metadata": {},
   "outputs": [],
   "source": []
  },
  {
   "cell_type": "markdown",
   "metadata": {},
   "source": [
    "### An (incomplete, but useful) list of methods for `str`\n",
    "\n",
    "**Bolded method names are perhaps the most useful to remember.**\n",
    "\n",
    "| Transformation            | Testing                  | Investigation     | Creating |\n",
    "| ---------------           | --------------           | ----------------- | ------------------| \n",
    "| **`.replace(old=, new=)`** | `.isalpha()`            | `.find(sub_str=)` |`.format(var=)`  \n",
    "**`.split(sub_str=)`**      |  `.isalnum()`            | `.count(sub_str=)`|    \n",
    "| `.capitalize()`         | `.isdigit()`            | `.rfind(sub_str=)` | `.join(iterable=)` \n",
    "|  `.title()`                |   `.islower()`           |                    |    \n",
    "|  `.strip()`              |   `.isupper()`           | \n",
    "|  `.lstrip()`                 |  `.startswith(sub_str=)` |  \n",
    "| `.rstrip()`              |  `.endswith(sub_str=)`   \n",
    "\n",
    "\n",
    "### A (complete) list of methods for `list`\n",
    "\n",
    "| Transformation             | Investigation     | Creating/Editing |\n",
    "| ---------------- | ----------------- | ------------------| \n",
    "| `.reverse()`     | `.count(item=)`   | **`.append(item=)`**     \n",
    "| `.sort()`        | `.index(item=)`   | `.extend(iterable=)`\n",
    "|                  |                   | `.insert(item=)`\n",
    "|                  |                   | `.pop(index=)`\n",
    "|                  |                   | `.remove(item=)`\n",
    "|                  |                   | `.clear()`\n",
    "|                  |                   | `.copy()`"
   ]
  },
  {
   "cell_type": "code",
   "execution_count": null,
   "metadata": {},
   "outputs": [],
   "source": []
  },
  {
   "cell_type": "markdown",
   "metadata": {},
   "source": [
    "# Putting Variables into `list`s and `str`s"
   ]
  },
  {
   "cell_type": "markdown",
   "metadata": {},
   "source": [
    "### To add your variables to a `list`\n",
    "\n",
    "**Adding items to a list directly**\n",
    "```python\n",
    "item_1 = \"my list item\"\n",
    "item_2 = \"another list item\"\n",
    "my_items_in_a_list = [item_1, item_2]\n",
    "```\n",
    "\n",
    "**Adding items to the end of a list with `.append(item=)`**\n",
    "```python\n",
    "item_1 = \"my list item\"\n",
    "my_list = [item_1]\n",
    "item_2 = \"another list item\"\n",
    "my_list.append(item_2)\n",
    "```\n",
    "\n",
    "**Inserting items at a certain position with `.insert(index=, item=)`**\n",
    "```python\n",
    "item_1 = \"my list item\"\n",
    "item_2 = \"another list item\"\n",
    "my_items_in_a_list = [item_1, item_2]\n",
    "item_3 = \"to go in the middle\"\n",
    "my_items_in_a_list.insert(index=1, item_3)\n",
    "```"
   ]
  },
  {
   "cell_type": "code",
   "execution_count": null,
   "metadata": {},
   "outputs": [],
   "source": []
  },
  {
   "cell_type": "markdown",
   "metadata": {},
   "source": [
    "## To add your variables into a `str`\n",
    "\n",
    "**Using f-strings**\n",
    "\n",
    "```python\n",
    "my_number = 34.2\n",
    "my_string = f\"My number is {my_number}\"\n",
    "```\n",
    "\n",
    "```python\n",
    "name = \"Connor\"\n",
    "city = \"Vancouver\"\n",
    "statement = f\"{name} is from {city}\"\n",
    "```"
   ]
  },
  {
   "cell_type": "code",
   "execution_count": null,
   "metadata": {},
   "outputs": [],
   "source": []
  },
  {
   "cell_type": "markdown",
   "metadata": {},
   "source": [
    "## Errors you may run into in this week's Workbook\n",
    "\n",
    "`IndexError`: When you are trying to access an index outside of the range of the collection, you will get an `IndexError`.\n",
    "\n",
    "`NameError`: When you try to reference a variable name that you have not actually defined yet. You may have forgot to run a cell above where you defined your variable.\n",
    "\n",
    "\n"
   ]
  },
  {
   "cell_type": "code",
   "execution_count": null,
   "metadata": {},
   "outputs": [],
   "source": [
    "# My first IndexError\n",
    "\n",
    "my_first_list = [\"Apples\", \"Oranges\", \"Bananas\", \"Pears\"]\n",
    "\n",
    "# my_first_list[5] # There is nothing in the '5' position in this list, it's not that long\n",
    "#my_first_list[2] # <- This one will work"
   ]
  }
 ],
 "metadata": {
  "kernelspec": {
   "display_name": "Python 3 (ipykernel)",
   "language": "python",
   "name": "python3"
  },
  "language_info": {
   "codemirror_mode": {
    "name": "ipython",
    "version": 3
   },
   "file_extension": ".py",
   "mimetype": "text/x-python",
   "name": "python",
   "nbconvert_exporter": "python",
   "pygments_lexer": "ipython3",
   "version": "3.9.7"
  }
 },
 "nbformat": 4,
 "nbformat_minor": 4
}
